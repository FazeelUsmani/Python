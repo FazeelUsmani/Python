{
 "cells": [
  {
   "cell_type": "markdown",
   "metadata": {},
   "source": [
    "##  Importing Regular Expression Library (import re):\n",
    "#### findall - returns a list of the all patterns found in the string\n",
    "#### search - returns only the first pattern found in the string"
   ]
  },
  {
   "cell_type": "code",
   "execution_count": 2,
   "metadata": {},
   "outputs": [
    {
     "name": "stdout",
     "output_type": "stream",
     "text": [
      "['abcd', 'abcd', 'abcd']\n",
      "<re.Match object; span=(0, 4), match='abcd'>\n"
     ]
    }
   ],
   "source": [
    "# Find a pattern in a text using a Regular Expression library:\n",
    "\n",
    "#**********************************************************************************************\n",
    "#You can first try searching of a basic pattern in a text:\n",
    "#**********************************************************************************************\n",
    "\n",
    "import re\n",
    "\n",
    "text = \"abcd eflkjlkjabcdpqersoitabcd\"                    # It seems the 'abcd' pattern is repeated 3 times \n",
    "\n",
    "pattern = re.compile(\"abcd\")\n",
    "\n",
    "result = pattern.findall(text)\n",
    "print(result)\n",
    "\n",
    "res = pattern.search(text)\n",
    "print(res)\n"
   ]
  },
  {
   "cell_type": "code",
   "execution_count": 3,
   "metadata": {},
   "outputs": [
    {
     "name": "stdout",
     "output_type": "stream",
     "text": [
      "['fazeelusmani18@gmail.com', 'hello@yahoo.net']\n",
      "<re.Match object; span=(15, 39), match='fazeelusmani18@gmail.com'>\n"
     ]
    }
   ],
   "source": [
    "# Implementing the email scraper\n",
    "\n",
    "import re                                                                                  # Importing regular expressions library\n",
    "\n",
    "text = \"random string. fazeelusmani18@gmail.com hello@yahoo.net some more random text.\"    # Assigning some random text\n",
    "\n",
    "pattern = re.compile(\"[a-zA-Z0-9]+@[a-zA-Z0-9]+\\.[a-zA-Z]+\")                               # Our email patterns looks like  <---\n",
    "\n",
    "result = pattern.findall(text)                                                             # Returns all the patterns in the form of a list\n",
    "print(result)\n",
    "\n",
    "res = pattern.search(text)                                                                 # Returns only the first available pattern \n",
    "print(res)\n"
   ]
  },
  {
   "cell_type": "code",
   "execution_count": null,
   "metadata": {},
   "outputs": [],
   "source": []
  }
 ],
 "metadata": {
  "kernelspec": {
   "display_name": "Python 3",
   "language": "python",
   "name": "python3"
  },
  "language_info": {
   "codemirror_mode": {
    "name": "ipython",
    "version": 3
   },
   "file_extension": ".py",
   "mimetype": "text/x-python",
   "name": "python",
   "nbconvert_exporter": "python",
   "pygments_lexer": "ipython3",
   "version": "3.7.3"
  }
 },
 "nbformat": 4,
 "nbformat_minor": 2
}
